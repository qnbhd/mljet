{
  "cells": [
    {
      "cell_type": "markdown",
      "metadata": {},
      "source": [
        "\n\n# 1. Lightweight and versatile\n\nMLJET is written entirely in Python with few dependencies.\nThis means that once you get interested in MLJET, we can quickly move to a practical example.\n\n\n## Simple Sklearn Local Example\n\nMLJET provides a simple interface to create project and deploy a model.\n\n- :func:`mljet.contrib.entrypoint.cook` is a function that takes a model and a strategy and deploys it.\n\nIn this example, we simply create a project with scikit-learn.\n"
      ]
    },
    {
      "cell_type": "markdown",
      "metadata": {},
      "source": [
        "Firstly, import :mod:`mljet`.\n\n"
      ]
    },
    {
      "cell_type": "code",
      "execution_count": null,
      "metadata": {
        "collapsed": false
      },
      "outputs": [],
      "source": [
        "import mljet"
      ]
    },
    {
      "cell_type": "markdown",
      "metadata": {},
      "source": [
        "Import :class:`sklearn.ensemble.RandomForestClassifier` as classifier\nand :mod:`sklearn.datasets` to load the iris dataset.\n\n"
      ]
    },
    {
      "cell_type": "code",
      "execution_count": null,
      "metadata": {
        "collapsed": false
      },
      "outputs": [],
      "source": [
        "from sklearn.datasets import load_iris\nfrom sklearn.ensemble import RandomForestClassifier"
      ]
    },
    {
      "cell_type": "markdown",
      "metadata": {},
      "source": [
        "Let's load dataset and create and train a simple model.\n\n"
      ]
    },
    {
      "cell_type": "code",
      "execution_count": null,
      "metadata": {
        "collapsed": false
      },
      "outputs": [],
      "source": [
        "X, y = load_iris(return_X_y=True)\nclf = RandomForestClassifier()\nclf.fit(X, y)"
      ]
    },
    {
      "cell_type": "markdown",
      "metadata": {},
      "source": [
        "Now, we can deploy the model with :func:`mljet.contrib.entrypoint.cook`.\nMain arguments are ``model`` and ``strategy``.\n\nThe strategy can be either `local` or `docker`.\nThe `local` strategy will deploy the model locally.\nThe `docker` strategy will deploy the model in a docker container.\nThe :func:`mljet.contrib.entrypoint.cook` function will return a bool or container name.\n\nNow we make only a project without running it.\nAfter calling the :func:`mljet.contrib.entrypoint.cook` function\nYou can see `build` folder in the current directory.\n\nIt contains:\n\n- `Dockerfile` - Dockerfile for the model\n\n- `requirements.txt` - requirements for the model\n\n- `models` directory - directory with the dumped model\n\n- `data` directory - directory with the example for the model\n\n- `server.py` - main file for the model\n\n\n"
      ]
    },
    {
      "cell_type": "code",
      "execution_count": null,
      "metadata": {
        "collapsed": false
      },
      "outputs": [],
      "source": [
        "mljet.contrib.cook(strategy=\"local\", model=clf)"
      ]
    },
    {
      "cell_type": "markdown",
      "metadata": {},
      "source": [
        "Let's see on :func:`mljet.contrib.entrypoint.cook` signature.\nThis function accepts a lot of parameters, but we see only the most important ones.\n\n- `model` - model to deploy\n- `strategy` - strategy to use\n- `backend` - backend to use\n- `need_run` - run service after build or not\n- `scan_path` - path to scan for requirements\n- `silent` - silent mode\n- `verbose` - verbose mode\n\nModel parameter is the most important one.\nIt can be any model that implements the `predict` and other methods.\n\n<div class=\"alert alert-info\"><h4>Note</h4><p>The model must be picklable.</p></div>\n\n<div class=\"alert alert-info\"><h4>Note</h4><p>Now is supported `sklearn`, `xgboost`.</p></div>\n\nStrategy parameter determines the strategy to use.\n\nBackend parameter determines the backend to use.\nNow is implemented :mod:`sanic` and :mod:`flask` backends.\n\n"
      ]
    }
  ],
  "metadata": {
    "kernelspec": {
      "display_name": "Python 3",
      "language": "python",
      "name": "python3"
    },
    "language_info": {
      "codemirror_mode": {
        "name": "ipython",
        "version": 3
      },
      "file_extension": ".py",
      "mimetype": "text/x-python",
      "name": "python",
      "nbconvert_exporter": "python",
      "pygments_lexer": "ipython3",
      "version": "3.10.6"
    }
  },
  "nbformat": 4,
  "nbformat_minor": 0
}
