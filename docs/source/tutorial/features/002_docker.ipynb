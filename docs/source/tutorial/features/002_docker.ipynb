{
  "cells": [
    {
      "cell_type": "markdown",
      "metadata": {},
      "source": [
        "\n\n# 2. Deploy with Docker\n\nIn this example, we deploy the model with Docker.\nFor this example you need to install Docker, see [Docker](https://docs.docker.com/get-docker/)\nand XGBoost, see [XGBoost](https://xgboost.readthedocs.io/en/latest/build.html).\n"
      ]
    },
    {
      "cell_type": "markdown",
      "metadata": {},
      "source": [
        "Firstly, import :mod:`mljet`.\n\n"
      ]
    },
    {
      "cell_type": "code",
      "execution_count": null,
      "metadata": {
        "collapsed": false
      },
      "outputs": [],
      "source": [
        "import mljet"
      ]
    },
    {
      "cell_type": "markdown",
      "metadata": {},
      "source": [
        "Import :class:`xgboost.XGBClassifier` as classifier\nand :mod:`sklearn.datasets` to load the iris dataset.\n\n"
      ]
    },
    {
      "cell_type": "code",
      "execution_count": null,
      "metadata": {
        "collapsed": false
      },
      "outputs": [],
      "source": [
        "from sklearn.datasets import load_iris\nfrom xgboost import XGBClassifier"
      ]
    },
    {
      "cell_type": "markdown",
      "metadata": {},
      "source": [
        "Let's load dataset and create and train a simple model.\n\n"
      ]
    },
    {
      "cell_type": "code",
      "execution_count": null,
      "metadata": {
        "collapsed": false
      },
      "outputs": [],
      "source": [
        "X, y = load_iris(return_X_y=True)\nclf = XGBClassifier()\nclf.fit(X, y)"
      ]
    },
    {
      "cell_type": "markdown",
      "metadata": {},
      "source": [
        "Now, we can deploy the model to `docker` with :func:`mljet.contrib.entrypoint.cook`.\n\n"
      ]
    },
    {
      "cell_type": "code",
      "execution_count": null,
      "metadata": {
        "collapsed": false
      },
      "outputs": [],
      "source": [
        "mljet.contrib.cook(\n    model=clf,\n    strategy=\"docker\",\n    tag=\"mljet-xgboost\",\n    port=5000,\n    need_run=True,\n    silent=True,\n    verbose=False,\n)"
      ]
    },
    {
      "cell_type": "markdown",
      "metadata": {},
      "source": [
        "Let's see on passed parameters.\n\n- `model` - model to deploy - `clf` (XGBoost model)\n\n- `strategy` - strategy to use - `docker`\n\n- `tag` - tag for the docker image - `mljet-xgboost`\n\n- `port` - port for the docker container - `8000`\n\n- `backend` - backend to use - `sanic`, see [Sanic](https://sanicframework.org/)\n\n- `need_run` - run service after build or not - `True` (only create container)\n\n- `silent` - silent mode - `True`, non-blocking mode\n\n- `verbose` - verbose mode - `True`, print DEBUG logs\n\nAfter calling the :func:`mljet.contrib.entrypoint.cook` function\nYou can see `build` folder in the current directory.\nAnd you can see the docker image and container with name `mljet-xgboost`.\n\nNow we can send a request to the model.\nFor this example, we use requests, see [Requests](https://requests.readthedocs.io/en/master/).\nYou can use any other tool, for example [Postman](https://www.postman.com/).\nFirstly, import requests.\n\n"
      ]
    },
    {
      "cell_type": "code",
      "execution_count": null,
      "metadata": {
        "collapsed": false
      },
      "outputs": [],
      "source": [
        "import time\n\nimport requests"
      ]
    },
    {
      "cell_type": "markdown",
      "metadata": {},
      "source": [
        "Let's sleep for 5 seconds and check the response.\n\n"
      ]
    },
    {
      "cell_type": "code",
      "execution_count": null,
      "metadata": {
        "collapsed": false
      },
      "outputs": [],
      "source": [
        "time.sleep(5)\n\nresponse = requests.post(\n    \"http://localhost:5000/predict\",\n    json={\"data\": X.tolist()},\n)\n\nprint(response.json())"
      ]
    }
  ],
  "metadata": {
    "kernelspec": {
      "display_name": "Python 3",
      "language": "python",
      "name": "python3"
    },
    "language_info": {
      "codemirror_mode": {
        "name": "ipython",
        "version": 3
      },
      "file_extension": ".py",
      "mimetype": "text/x-python",
      "name": "python",
      "nbconvert_exporter": "python",
      "pygments_lexer": "ipython3",
      "version": "3.10.6"
    }
  },
  "nbformat": 4,
  "nbformat_minor": 0
}
